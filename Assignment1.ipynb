{
  "nbformat": 4,
  "nbformat_minor": 0,
  "metadata": {
    "colab": {
      "provenance": [],
      "authorship_tag": "ABX9TyMWzma4MV7XrMkSb1bo4VCv",
      "include_colab_link": true
    },
    "kernelspec": {
      "name": "python3",
      "display_name": "Python 3"
    },
    "language_info": {
      "name": "python"
    }
  },
  "cells": [
    {
      "cell_type": "markdown",
      "metadata": {
        "id": "view-in-github",
        "colab_type": "text"
      },
      "source": [
        "<a href=\"https://colab.research.google.com/github/umeshsood/cooginitve_computing/blob/main/Assignment1.ipynb\" target=\"_parent\"><img src=\"https://colab.research.google.com/assets/colab-badge.svg\" alt=\"Open In Colab\"/></a>"
      ]
    },
    {
      "cell_type": "code",
      "execution_count": 1,
      "metadata": {
        "colab": {
          "base_uri": "https://localhost:8080/"
        },
        "id": "vZaRG5UWPaBP",
        "outputId": "9197ee86-fe12-4383-8b80-cabb770ef6df"
      },
      "outputs": [
        {
          "output_type": "stream",
          "name": "stdout",
          "text": [
            "UMESH SOOD\n"
          ]
        }
      ],
      "source": [
        "print('UMESH SOOD')"
      ]
    },
    {
      "cell_type": "code",
      "source": [
        "a=1+5\n",
        "b=\"Umesh \"+\"Sood\"\n",
        "c=\"year \"+str(2)\n",
        "print(a)\n",
        "print(b)\n",
        "print(c)\n"
      ],
      "metadata": {
        "colab": {
          "base_uri": "https://localhost:8080/"
        },
        "id": "zWu147FTPqAz",
        "outputId": "3abbff0f-0b10-4e96-940b-326686217430"
      },
      "execution_count": 2,
      "outputs": [
        {
          "output_type": "stream",
          "name": "stdout",
          "text": [
            "6\n",
            "Umesh Sood\n",
            "year 2\n"
          ]
        }
      ]
    },
    {
      "cell_type": "code",
      "source": [
        "a=int(input('Enter a number:'))\n",
        "\n",
        "if(a==0):\n",
        "    print('Zero')\n",
        "elif(a>0):\n",
        "    print('It is a Positive number')\n",
        "elif(a<0):\n",
        "    print('It is a Negative number')\n",
        "\n",
        "if(a%2==0):\n",
        "    print('The Number is even')\n",
        "else:\n",
        "    print('The Number is odd')\n"
      ],
      "metadata": {
        "colab": {
          "base_uri": "https://localhost:8080/"
        },
        "id": "QpwKoM6qPxnq",
        "outputId": "a3568d57-6851-46a2-fd4b-c3a81b537569"
      },
      "execution_count": 3,
      "outputs": [
        {
          "output_type": "stream",
          "name": "stdout",
          "text": [
            "Enter a number:55\n",
            "It is a Positive number\n",
            "The Number is odd\n"
          ]
        }
      ]
    },
    {
      "cell_type": "code",
      "source": [
        "print('Using for loop:')\n",
        "for i in range(1,11,1):\n",
        "    print(i)\n",
        "\n",
        "print('\\n\\n')\n",
        "print('Using while loop:')\n",
        "num=0\n",
        "while(num<11):\n",
        "    print(num)\n",
        "    num=num+1\n",
        "\n",
        "print('\\n\\n')\n",
        "sum1=0\n",
        "for i in range(1,101,1):\n",
        "    sum1=sum1+i\n",
        "print('Sum:',sum1)\n"
      ],
      "metadata": {
        "colab": {
          "base_uri": "https://localhost:8080/"
        },
        "id": "_R4mO9JkP0kt",
        "outputId": "87f28d69-896d-42c5-9f52-3184b0f98cb0"
      },
      "execution_count": 4,
      "outputs": [
        {
          "output_type": "stream",
          "name": "stdout",
          "text": [
            "Using for loop:\n",
            "1\n",
            "2\n",
            "3\n",
            "4\n",
            "5\n",
            "6\n",
            "7\n",
            "8\n",
            "9\n",
            "10\n",
            "\n",
            "\n",
            "\n",
            "Using while loop:\n",
            "0\n",
            "1\n",
            "2\n",
            "3\n",
            "4\n",
            "5\n",
            "6\n",
            "7\n",
            "8\n",
            "9\n",
            "10\n",
            "\n",
            "\n",
            "\n",
            "Sum: 5050\n"
          ]
        }
      ]
    },
    {
      "cell_type": "code",
      "source": [
        "L=[1,2,3,4,5]\n",
        "print('Maximum no.:',max(L))\n",
        "print('Minimum no.:',min(L))\n",
        "\n",
        "dict1={1:'One',2:'Two',3:'Three'}\n",
        "a=eval(input('Enter the key:'))\n",
        "print('Value:',dict1[a])\n",
        "\n",
        "\n",
        "list1=[78,66,34,22,98,140,18]\n",
        "list1.sort()\n",
        "print('Sorted list in ascending order :',list1)\n",
        "list1.sort(reverse=True)\n",
        "print('Sorted list in descending order:',list1)\n",
        "\n",
        "\n",
        "dict2={4:'Four',5:'Five',6:'Six'}\n",
        "dict1.update(dict2)\n",
        "print(dict1)\n"
      ],
      "metadata": {
        "colab": {
          "base_uri": "https://localhost:8080/"
        },
        "id": "m1MxGC89P4BA",
        "outputId": "e123c93d-22d1-4ef0-a887-7e1d3e5625ee"
      },
      "execution_count": 6,
      "outputs": [
        {
          "output_type": "stream",
          "name": "stdout",
          "text": [
            "Maximum no.: 5\n",
            "Minimum no.: 1\n",
            "Enter the key:3\n",
            "Value: Three\n",
            "Sorted list in ascending order : [18, 22, 34, 66, 78, 98, 140]\n",
            "Sorted list in descending order: [140, 98, 78, 66, 34, 22, 18]\n",
            "{1: 'One', 2: 'Two', 3: 'Three', 4: 'Four', 5: 'Five', 6: 'Six'}\n"
          ]
        }
      ]
    },
    {
      "cell_type": "code",
      "source": [
        "a=input('Enter the string:')\n",
        "\n",
        "count=0\n",
        "for i in a:\n",
        "    if i in \"aeiou\":\n",
        "        count=count+1\n",
        "\n",
        "print('Number of vowels:',count)\n",
        "\n",
        "b=a[::-1]\n",
        "print('Reveresed:',b)\n",
        "\n",
        "string=input('Enter a string to check:')\n",
        "revStr=string[::-1]\n",
        "if(revStr==string):\n",
        "    print('Entered string is palindrome')\n",
        "else:\n",
        "    print('Entered string is not palindrome')\n"
      ],
      "metadata": {
        "colab": {
          "base_uri": "https://localhost:8080/"
        },
        "id": "iLRX4tilP6Ox",
        "outputId": "aaa6ee5a-6bcf-416e-db71-2172bbfde2f6"
      },
      "execution_count": 7,
      "outputs": [
        {
          "output_type": "stream",
          "name": "stdout",
          "text": [
            "Enter the string:hi how\n",
            "Number of vowels: 2\n",
            "Reveresed: woh ih\n",
            "Enter a string to check:hooh\n",
            "Entered string is palindrome\n"
          ]
        }
      ]
    },
    {
      "cell_type": "code",
      "source": [
        "file=open(\"file.txt\",\"w\")\n",
        "\n",
        "file.write(\"Cognitive Computing\\n\")\n",
        "print(\"Data written\")\n",
        "file.close()\n",
        "\n",
        "file=open(\"file.txt\",\"r\")\n",
        "print(file.read())\n",
        "file.close()\n",
        "\n",
        "\n",
        "\n",
        "\n",
        "file=open(\"file.txt\",\"a\")\n",
        "file.write(\"Semester IV\\n\")\n",
        "file.close()\n",
        "\n",
        "file=open(\"file.txt\",\"r\")\n",
        "print(file.read())\n",
        "file.close()\n",
        "\n",
        "\n",
        "\n",
        "\n",
        "\n",
        "file=open(\"file.txt\",\"r\")\n",
        "print('Number of lines:',len(file.readlines()))\n",
        "file.close()\n",
        "\n"
      ],
      "metadata": {
        "colab": {
          "base_uri": "https://localhost:8080/"
        },
        "id": "L0KJ2O-dP_tm",
        "outputId": "62df17b0-eb0d-47b1-d8d1-62d029e70cb7"
      },
      "execution_count": 8,
      "outputs": [
        {
          "output_type": "stream",
          "name": "stdout",
          "text": [
            "Data written\n",
            "Cognitive Computing\n",
            "\n",
            "Cognitive Computing\n",
            "Semester IV\n",
            "\n",
            "Number of lines: 2\n"
          ]
        }
      ]
    },
    {
      "cell_type": "code",
      "source": [
        "a=int(input('Enter a number:'))\n",
        "b=int(input('Enter a number:'))\n",
        "\n",
        "try:\n",
        "    result=a/b\n",
        "    print('Result:',result)\n",
        "except:\n",
        "    print('Zero divison error')\n",
        "\n",
        "\n",
        "\n",
        "try:\n",
        "    num=int(input('Enter a number:'))\n",
        "    print('Valid')\n",
        "except:\n",
        "    print('You didnt enter a number')\n",
        "\n",
        "\n",
        "\n",
        "try:\n",
        "    num=int(input('Enter a number to divide 15:'))\n",
        "    res=15/num\n",
        "except:\n",
        "    print('Zero divison error')\n",
        "else:\n",
        "    print('Result:',res)\n",
        "finally:\n",
        "    print('Completed')\n"
      ],
      "metadata": {
        "colab": {
          "base_uri": "https://localhost:8080/"
        },
        "id": "PTuWGo_hQCNX",
        "outputId": "3dcc2c79-ca36-4c41-8b0e-92ba9b4809e2"
      },
      "execution_count": 9,
      "outputs": [
        {
          "output_type": "stream",
          "name": "stdout",
          "text": [
            "Enter a number:45\n",
            "Enter a number:5\n",
            "Result: 9.0\n",
            "Enter a number:33\n",
            "Valid\n",
            "Enter a number to divide 15:45\n",
            "Result: 0.3333333333333333\n",
            "Completed\n"
          ]
        }
      ]
    },
    {
      "cell_type": "code",
      "source": [
        "import random\n",
        "print('Five random numbers')\n",
        "for i in range(5):\n",
        "    print(random.randint(1,100))\n",
        "\n",
        "\n",
        "\n",
        "\n",
        "print('\\n\\n')\n",
        "num=random.randint(1,100)\n",
        "flag=True\n",
        "for i in range(2,int(num/2) +1):\n",
        "    if(num%i==0):\n",
        "        flag=False\n",
        "        break\n",
        "if(flag==True):\n",
        "    print(num,' is prime')\n",
        "else:\n",
        "    print(num,' is not prime')\n",
        "\n",
        "\n",
        "\n",
        "\n",
        "print('\\n\\n')\n",
        "choice=int(input('Enter 1 to roll a die:'))\n",
        "if(choice==1):\n",
        "    print('You got ',random.randint(1,6))\n",
        "\n",
        "\n",
        "\n",
        "print('\\n\\n')\n",
        "l=[1,2,3,4,5]\n",
        "random.shuffle(l)\n",
        "print('Shuffled: ',l)\n",
        "\n",
        "\n",
        "\n",
        "print('\\n\\n')\n",
        "num=random.choice(l)\n",
        "print('Number randomly chosen: ',num)\n",
        "\n",
        "\n",
        "\n",
        "print('\\n\\n')\n",
        "list_of_chars=\"ABCDEFGHIJKLMNOPQRSTUVWXYZabcdefghijklmnopqrstuvwxyz1234567890!@#$%^&*()\"\n",
        "length=int(input('Enter the length of password:'))\n",
        "password=\"\"\n",
        "for i in range(length):\n",
        "    password=password+random.choice(list_of_chars)\n",
        "print(\"Your password is: \",password)\n",
        "\n",
        "\n",
        "\n",
        "\n",
        "print('\\n\\n')\n",
        "cards=[\"Diamonds\",\"Spades\",\"Hearts\",\"Clubs\"]\n",
        "ranks=[2,3,4,5,6,7,8,9,0,\"Jack\",\"Queen\",\"King\",\"Ace\"]\n",
        "card=random.choice(cards)\n",
        "rank=random.choice(ranks)\n",
        "print(rank,\" of \",card)\n"
      ],
      "metadata": {
        "colab": {
          "base_uri": "https://localhost:8080/"
        },
        "id": "a-LlzmDJQGlP",
        "outputId": "798553c1-7197-4f0f-dc97-b28bff36f648"
      },
      "execution_count": 10,
      "outputs": [
        {
          "output_type": "stream",
          "name": "stdout",
          "text": [
            "Five random numbers\n",
            "63\n",
            "30\n",
            "75\n",
            "28\n",
            "46\n",
            "\n",
            "\n",
            "\n",
            "95  is not prime\n",
            "\n",
            "\n",
            "\n",
            "Enter 1 to roll a die:1\n",
            "You got  6\n",
            "\n",
            "\n",
            "\n",
            "Shuffled:  [4, 1, 3, 5, 2]\n",
            "\n",
            "\n",
            "\n",
            "Number randomly chosen:  3\n",
            "\n",
            "\n",
            "\n",
            "Enter the length of password:4\n",
            "Your password is:  wztP\n",
            "\n",
            "\n",
            "\n",
            "9  of  Clubs\n"
          ]
        }
      ]
    },
    {
      "cell_type": "code",
      "source": [
        "import sys\n",
        "length=len(sys.argv[1])\n",
        "print(\"Length of \",sys.argv[1],\" is: \",length)\n",
        "\n",
        "\"\"\"\n",
        "Output:\n",
        "py 10b.py \"hello\"\n",
        "Length of  hello  is:  5\n",
        "\"\"\"\n"
      ],
      "metadata": {
        "colab": {
          "base_uri": "https://localhost:8080/",
          "height": 52
        },
        "id": "RT7jm98jQHuK",
        "outputId": "ffe13b0d-8426-4fb5-9536-9e91c40cd5bb"
      },
      "execution_count": 11,
      "outputs": [
        {
          "output_type": "stream",
          "name": "stdout",
          "text": [
            "Length of  -f  is:  2\n"
          ]
        },
        {
          "output_type": "execute_result",
          "data": {
            "text/plain": [
              "'\\nOutput:\\npy 10b.py \"hello\"\\nLength of  hello  is:  5\\n'"
            ],
            "application/vnd.google.colaboratory.intrinsic+json": {
              "type": "string"
            }
          },
          "metadata": {},
          "execution_count": 11
        }
      ]
    },
    {
      "cell_type": "code",
      "source": [
        "import math\n",
        "from datetime import datetime\n",
        "\n",
        "print(math.cos(0))\n",
        "print(math.cos(math.pi))\n",
        "print(math.fabs(-3))\n",
        "\n",
        "\n",
        "a=int(input('Enter a number:'))\n",
        "b=math.pow(a,1/2)\n",
        "print('Square root of ',a,' is:',b)\n",
        "\n",
        "\n",
        "\n",
        "\n",
        "\n",
        "\n",
        "print('\\n\\n')\n",
        "now=datetime.now()\n",
        "date=now.strftime(\"%d/%m/%Y\")\n",
        "time=now.strftime(\"%H:%M:%S\")\n",
        "print(\"Current Date:\",date)\n",
        "print(\"Current time:\",time)\n",
        "\n",
        "\n",
        "\n",
        "print('\\n\\n')\n",
        "import os\n",
        "print('List of files:',os.listdir())\n"
      ],
      "metadata": {
        "colab": {
          "base_uri": "https://localhost:8080/"
        },
        "id": "oyDpvXluQMPI",
        "outputId": "3c41e7e1-92b7-4764-fb72-4ed6c0466974"
      },
      "execution_count": 12,
      "outputs": [
        {
          "output_type": "stream",
          "name": "stdout",
          "text": [
            "1.0\n",
            "-1.0\n",
            "3.0\n",
            "Enter a number:30\n",
            "Square root of  30  is: 5.477225575051661\n",
            "\n",
            "\n",
            "\n",
            "Current Date: 23/01/2025\n",
            "Current time: 13:04:05\n",
            "\n",
            "\n",
            "\n",
            "List of files: ['.config', 'file.txt', 'sample_data']\n"
          ]
        }
      ]
    }
  ]
}