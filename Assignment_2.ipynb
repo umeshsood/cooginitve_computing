{
  "nbformat": 4,
  "nbformat_minor": 0,
  "metadata": {
    "colab": {
      "provenance": [],
      "authorship_tag": "ABX9TyMA1H/2AioH4t+UF9K9z/YG",
      "include_colab_link": true
    },
    "kernelspec": {
      "name": "python3",
      "display_name": "Python 3"
    },
    "language_info": {
      "name": "python"
    }
  },
  "cells": [
    {
      "cell_type": "markdown",
      "metadata": {
        "id": "view-in-github",
        "colab_type": "text"
      },
      "source": [
        "<a href=\"https://colab.research.google.com/github/umeshsood/cooginitve_computing/blob/main/Assignment_2.ipynb\" target=\"_parent\"><img src=\"https://colab.research.google.com/assets/colab-badge.svg\" alt=\"Open In Colab\"/></a>"
      ]
    },
    {
      "cell_type": "code",
      "execution_count": 1,
      "metadata": {
        "colab": {
          "base_uri": "https://localhost:8080/"
        },
        "id": "Adz4pxw2MzRo",
        "outputId": "b5aa058e-f66a-4ed1-95b9-07c6e318e22e"
      },
      "outputs": [
        {
          "output_type": "stream",
          "name": "stdout",
          "text": [
            "[10, 20, 30, 40, 50, 60, 70, 80, 200, 300]\n",
            "[20, 40, 50, 60, 70, 80, 200, 300]\n",
            "[20, 40, 50, 60, 70, 80, 200, 300]\n",
            "[300, 200, 80, 70, 60, 50, 40, 20]\n"
          ]
        }
      ],
      "source": [
        "L=[10,20,30,40,50,60,70,80]\n",
        "L.append(200)\n",
        "L.append(300)\n",
        "print(L)\n",
        "\n",
        "L.remove(10)\n",
        "L.remove(30)\n",
        "print(L)\n",
        "\n",
        "L.sort()\n",
        "print(L)\n",
        "\n",
        "L.sort(reverse=True)\n",
        "print(L)\n"
      ]
    },
    {
      "cell_type": "code",
      "source": [
        "T=(45, 89.5, 76, 45.4, 89, 92, 58, 45)\n",
        "MAX=max(T)\n",
        "print(MAX)\n",
        "print(T.index(MAX))"
      ],
      "metadata": {
        "colab": {
          "base_uri": "https://localhost:8080/"
        },
        "id": "YB1sBG8PNXTJ",
        "outputId": "8d83f471-58de-425b-8d12-9f370915196a"
      },
      "execution_count": 3,
      "outputs": [
        {
          "output_type": "stream",
          "name": "stdout",
          "text": [
            "92\n",
            "5\n"
          ]
        }
      ]
    },
    {
      "cell_type": "code",
      "source": [
        "\n",
        "MIN=min(T)\n",
        "print(MIN)\n",
        "print(T.count(MIN))"
      ],
      "metadata": {
        "colab": {
          "base_uri": "https://localhost:8080/"
        },
        "id": "Be0a8UJPNaHC",
        "outputId": "79e385d6-1735-4b77-8ca0-a0be1cb7c720"
      },
      "execution_count": 4,
      "outputs": [
        {
          "output_type": "stream",
          "name": "stdout",
          "text": [
            "45\n",
            "2\n"
          ]
        }
      ]
    },
    {
      "cell_type": "code",
      "source": [
        "\n",
        "t=T[::-1]\n",
        "print(t)\n",
        "print(list(T))"
      ],
      "metadata": {
        "colab": {
          "base_uri": "https://localhost:8080/"
        },
        "id": "8SO0S9WhNicH",
        "outputId": "27f31f79-0017-4f21-f0fc-52b5d35f1ec7"
      },
      "execution_count": 5,
      "outputs": [
        {
          "output_type": "stream",
          "name": "stdout",
          "text": [
            "(45, 58, 92, 89, 45.4, 76, 89.5, 45)\n",
            "[45, 89.5, 76, 45.4, 89, 92, 58, 45]\n"
          ]
        }
      ]
    },
    {
      "cell_type": "code",
      "source": [
        "def searching(data):\n",
        "    value = int(input(\"Enter any number: \"))\n",
        "    if value in data:\n",
        "        return True\n",
        "    else:\n",
        "        return False\n",
        "data=[45, 89.5, 76, 45.4, 89, 92, 58, 45]\n",
        "if searching(data):\n",
        "    print(\"Input is present\")\n",
        "else:\n",
        "    print(\"Not found\")"
      ],
      "metadata": {
        "colab": {
          "base_uri": "https://localhost:8080/"
        },
        "id": "cXKRJRWQN7Kc",
        "outputId": "599cb3be-ecdb-439d-d01d-471ffa90207e"
      },
      "execution_count": 7,
      "outputs": [
        {
          "output_type": "stream",
          "name": "stdout",
          "text": [
            "Enter any number: 89\n",
            "Input is present\n"
          ]
        }
      ]
    },
    {
      "cell_type": "code",
      "source": [
        "import random as r\n",
        "random_numbers = [r.randint(100, 900) for _ in range(100)]\n",
        "print(random_numbers)"
      ],
      "metadata": {
        "colab": {
          "base_uri": "https://localhost:8080/"
        },
        "id": "MkY-I9wEOD7j",
        "outputId": "079ab2ea-adca-4ccc-ede8-d0a2a5690eac"
      },
      "execution_count": 12,
      "outputs": [
        {
          "output_type": "stream",
          "name": "stdout",
          "text": [
            "[274, 585, 795, 500, 362, 585, 780, 514, 165, 206, 200, 760, 738, 422, 891, 827, 732, 782, 245, 191, 574, 135, 514, 292, 736, 163, 867, 271, 850, 333, 738, 584, 179, 708, 687, 797, 851, 635, 866, 282, 706, 685, 287, 869, 620, 510, 756, 463, 318, 684, 559, 512, 572, 304, 329, 248, 241, 510, 114, 346, 381, 896, 585, 367, 885, 189, 286, 123, 622, 218, 544, 538, 196, 353, 500, 297, 350, 861, 510, 852, 564, 103, 725, 369, 658, 828, 290, 539, 576, 118, 423, 759, 626, 376, 751, 661, 125, 484, 682, 511]\n"
          ]
        }
      ]
    },
    {
      "cell_type": "code",
      "source": [
        "odd_numbers = [num for num in random_numbers if num % 2 != 0]\n",
        "count_odd=len(odd_numbers)\n",
        "print(odd_numbers)\n",
        "print(count_odd)"
      ],
      "metadata": {
        "colab": {
          "base_uri": "https://localhost:8080/"
        },
        "id": "iTvs4r-zOG3K",
        "outputId": "cc658a9b-19e6-4f7d-c767-d8b7faecd0e4"
      },
      "execution_count": 11,
      "outputs": [
        {
          "output_type": "stream",
          "name": "stdout",
          "text": [
            "[29, 13, 7, 35, 9, 15, 7, 67, 79, 27, 31, 37, 91, 67, 19, 3, 47, 31, 95, 21, 89, 99, 97, 45, 15, 93, 31, 61, 3, 13, 13, 9, 39, 49, 47, 49, 71, 9, 59, 3, 35, 63, 1, 69, 55, 91, 79, 35, 7, 33]\n",
            "50\n"
          ]
        }
      ]
    },
    {
      "cell_type": "code",
      "source": [
        "even_numbers = [num for num in random_numbers if num % 2 == 0]\n",
        "count_even=len(even_numbers)\n",
        "print(even_numbers)\n",
        "print(count_even)\n",
        ""
      ],
      "metadata": {
        "colab": {
          "base_uri": "https://localhost:8080/"
        },
        "id": "tzT5cCbMOJWa",
        "outputId": "04d3ddaa-7c83-49b4-d657-33ccba6efb84"
      },
      "execution_count": 10,
      "outputs": [
        {
          "output_type": "stream",
          "name": "stdout",
          "text": [
            "[96, 42, 92, 34, 70, 84, 60, 72, 4, 98, 86, 2, 60, 64, 24, 60, 8, 34, 22, 4, 36, 36, 100, 6, 4, 90, 64, 70, 38, 88, 66, 16, 74, 88, 4, 92, 42, 28, 48, 42, 58, 98, 94, 84, 14, 90, 34, 36, 12, 28]\n",
            "50\n"
          ]
        }
      ]
    },
    {
      "cell_type": "code",
      "source": [
        "\n",
        "import random\n",
        "\n",
        "def is_prime(n):\n",
        "    if n < 2:\n",
        "        return False\n",
        "    for i in range(2, int(n ** 0.5) + 1):\n",
        "        if n % i == 0:\n",
        "            return False\n",
        "    return True\n",
        "\n",
        "random_numbers = [random.randint(1, 100) for _ in range(100)]\n",
        "prime_numbers = [num for num in random_numbers if is_prime(num)]\n",
        "count_primes = len(prime_numbers)\n",
        "\n",
        "print(\"Random Numbers:\", random_numbers)\n",
        "print(\"Prime Numbers:\", prime_numbers)\n",
        "print(\"Count of Prime Numbers:\", count_primes)"
      ],
      "metadata": {
        "colab": {
          "base_uri": "https://localhost:8080/"
        },
        "id": "EVnucq-eOJz9",
        "outputId": "fe2163df-91ff-493d-9025-2a89cb8f51db"
      },
      "execution_count": 9,
      "outputs": [
        {
          "output_type": "stream",
          "name": "stdout",
          "text": [
            "Random Numbers: [29, 13, 96, 7, 35, 9, 42, 15, 92, 7, 34, 70, 84, 67, 79, 60, 72, 4, 27, 31, 37, 98, 86, 91, 2, 67, 19, 60, 64, 24, 60, 8, 3, 47, 31, 34, 22, 95, 4, 36, 21, 36, 100, 6, 89, 4, 99, 97, 90, 45, 15, 64, 93, 31, 61, 3, 13, 70, 13, 9, 39, 49, 38, 47, 49, 88, 71, 9, 59, 66, 3, 16, 74, 88, 35, 4, 63, 92, 1, 69, 42, 55, 91, 28, 79, 48, 42, 58, 98, 94, 84, 14, 90, 34, 36, 35, 12, 7, 33, 28]\n",
            "Prime Numbers: [29, 13, 7, 7, 67, 79, 31, 37, 2, 67, 19, 3, 47, 31, 89, 97, 31, 61, 3, 13, 13, 47, 71, 59, 3, 79, 7]\n",
            "Count of Prime Numbers: 27\n"
          ]
        }
      ]
    },
    {
      "cell_type": "code",
      "source": [
        "A={34,56,78,90}\n",
        "B={74,45,90,23}\n",
        "print(A|B)"
      ],
      "metadata": {
        "colab": {
          "base_uri": "https://localhost:8080/"
        },
        "id": "UtYnp21VOPPT",
        "outputId": "1e72bb12-f4f5-40f6-aab6-b71023df5b11"
      },
      "execution_count": 8,
      "outputs": [
        {
          "output_type": "stream",
          "name": "stdout",
          "text": [
            "{34, 74, 45, 78, 23, 56, 90}\n"
          ]
        }
      ]
    },
    {
      "cell_type": "code",
      "source": [
        "\n",
        "print(A&B)"
      ],
      "metadata": {
        "colab": {
          "base_uri": "https://localhost:8080/"
        },
        "id": "TFsl7pXUOR6z",
        "outputId": "c36d485e-ff39-4c21-a4b8-d5b4823b6fdf"
      },
      "execution_count": 13,
      "outputs": [
        {
          "output_type": "stream",
          "name": "stdout",
          "text": [
            "{90}\n"
          ]
        }
      ]
    },
    {
      "cell_type": "code",
      "source": [
        "print(B-A)\n",
        "print(A-B)\n",
        "print(A-B|B-A)\n"
      ],
      "metadata": {
        "colab": {
          "base_uri": "https://localhost:8080/"
        },
        "id": "sYvsM_jnOVBt",
        "outputId": "3ddfdaf3-6a0e-4dae-d208-f22cc706b37e"
      },
      "execution_count": 14,
      "outputs": [
        {
          "output_type": "stream",
          "name": "stdout",
          "text": [
            "{74, 45, 23}\n",
            "{56, 34, 78}\n",
            "{34, 23, 56, 74, 45, 78}\n"
          ]
        }
      ]
    },
    {
      "cell_type": "code",
      "source": [
        "\n",
        "is_subset = A.issubset(B)\n",
        "is_superset = B.issuperset(A)\n",
        "\n",
        "print(f\"Is A a subset of B? {is_subset}\")\n",
        "print(f\"Is B a superset of A? {is_superset}\")"
      ],
      "metadata": {
        "colab": {
          "base_uri": "https://localhost:8080/"
        },
        "id": "piQP6GgjOgTr",
        "outputId": "d0227fdf-33a8-4510-bb55-34b36be1ab38"
      },
      "execution_count": 17,
      "outputs": [
        {
          "output_type": "stream",
          "name": "stdout",
          "text": [
            "Is A a subset of B? False\n",
            "Is B a superset of A? False\n"
          ]
        }
      ]
    },
    {
      "cell_type": "code",
      "source": [
        "\n",
        "def delete(A):\n",
        "    value = int(input(\"Enter any number: \"))\n",
        "    if value in A:\n",
        "        A.remove(value)\n",
        "        print(A)\n",
        "        return True\n",
        "    else:\n",
        "        return False\n",
        "A={34,56,78,90}\n",
        "if delete(A):\n",
        "    print(\"Input is present\")\n",
        "else:\n",
        "    print(\"Not found\")\n"
      ],
      "metadata": {
        "colab": {
          "base_uri": "https://localhost:8080/"
        },
        "id": "YFGkV-f3Ojap",
        "outputId": "ee8b0010-385e-480b-ec19-ddaa03639fb7"
      },
      "execution_count": 16,
      "outputs": [
        {
          "output_type": "stream",
          "name": "stdout",
          "text": [
            "Enter any number: 78\n",
            "{56, 34, 90}\n",
            "Input is present\n"
          ]
        }
      ]
    },
    {
      "cell_type": "code",
      "source": [
        "\n",
        "sample_dict={\n",
        "    \"name\":\"kelly\",\n",
        "    \"age\":25,\n",
        "    \"salary\":8000,\n",
        "    \"city\":\"NEW YORK\"\n",
        "}\n",
        "sample_dict[\"location\"]=sample_dict.pop('city')\n",
        "print(sample_dict)\n"
      ],
      "metadata": {
        "colab": {
          "base_uri": "https://localhost:8080/"
        },
        "id": "X6qKD66uOlnh",
        "outputId": "c1f7003c-45ae-4c3b-e4d6-ccf5a177c2db"
      },
      "execution_count": 15,
      "outputs": [
        {
          "output_type": "stream",
          "name": "stdout",
          "text": [
            "{'name': 'kelly', 'age': 25, 'salary': 8000, 'location': 'NEW YORK'}\n"
          ]
        }
      ]
    }
  ]
}